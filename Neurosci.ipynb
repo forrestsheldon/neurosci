{
 "metadata": {
  "name": ""
 },
 "nbformat": 3,
 "nbformat_minor": 0,
 "worksheets": [
  {
   "cells": [
    {
     "cell_type": "markdown",
     "metadata": {},
     "source": [
      "#My Neuroscience Schema\n",
      "\n",
      "A collection of information, ideas and experiments concerning neuroscience\n",
      "\n",
      "##Stimulus Cancellation in Electric Fish\n"
     ]
    },
    {
     "cell_type": "code",
     "collapsed": false,
     "input": [
      "%pylab inline --no-import-all"
     ],
     "language": "python",
     "metadata": {},
     "outputs": [
      {
       "output_type": "stream",
       "stream": "stdout",
       "text": [
        "Populating the interactive namespace from numpy and matplotlib\n"
       ]
      }
     ],
     "prompt_number": 1
    },
    {
     "cell_type": "code",
     "collapsed": false,
     "input": [
      "import matplotlib.pyplot as plt\n",
      "import numpy as np\n",
      "import scipy as scp"
     ],
     "language": "python",
     "metadata": {},
     "outputs": [],
     "prompt_number": 2
    },
    {
     "cell_type": "code",
     "collapsed": false,
     "input": [
      "def spiking_network(init, conn, T, thresh=.4):\n",
      "    \"\"\"\n",
      "    Runs a simple spiking network for T time steps.\n",
      "    init - a 1D array containing the inital state of each neuron\n",
      "    conn_ij - the strength of the connection from neuron j to i\n",
      "    T - The number of time steps to run for\n",
      "    thresh - the value of the membrane potential that causes a spike\n",
      "    (mem - The number of time steps that a change in the membrane potential persists)\n",
      "    \n",
      "    At each time step, the membrane potential of each neuron is\n",
      "    updated according to the spikes in the previous step. If the membrane potential is over thresh, the neuron spikes\n",
      "    and it's membrane potential in the next step is set to zero.\n",
      "    \"\"\"\n",
      "    spikes = np.zeros((T, len(init)))\n",
      "    spikes[0,:] = init\n",
      "    membrane_pot = np.zeros((T, len(init)))\n",
      "    for t in range(1,T):\n",
      "        membrane_pot[t,:] = membrane_pot[t-1,:] + dot(conn,spikes[t-1,:])\n",
      "        for neuron,potential in enumerate(membrane_pot[t,:]):\n",
      "            if potential > thresh:\n",
      "                spikes[t,neuron] = 1\n",
      "                membrane_pot[t,neuron] = 0\n",
      "            else:\n",
      "                membrane_pot[t,neuron] -= membrane_pot[t-1, neuron]\n",
      "    return(spikes)\n",
      "                \n",
      "                \n",
      "        \n",
      "        \n",
      "    \n",
      "\n",
      "initial = np.array([1,0,1,0])\n",
      "connections = 2*np.random.rand(4,4)-1.\n",
      "spikes = spiking_network(initial, connections, 10)"
     ],
     "language": "python",
     "metadata": {},
     "outputs": [],
     "prompt_number": 8
    },
    {
     "cell_type": "markdown",
     "metadata": {},
     "source": [
      "This is the spiking network I'd like to play with analyzing for a bit.  One possible thing to look at is the number of spikes over time.  Given many random connections matrices run many times, I could calculate an average number of spikes at each time step and see if that holds any interesting information.  I'd also like to look at cycles and visualizing binary vectors to see if there are any applicable ideas.\n",
      "\n",
      "Let's start with the average number of spikes in the network over time:"
     ]
    },
    {
     "cell_type": "code",
     "collapsed": false,
     "input": [
      "def avg_num_spikes(num_neurons, T, trials):\n",
      "    \"\"\"\n",
      "    avg_num_spikes(num_neurons, T, trials)\n",
      "    num_neurons - number of neurons in the simulation\n",
      "    T - the number of time steps\n",
      "    trials - the number of times the simulation is run\n",
      "\n",
      "    This runs spiking_network 'trials' number of times, generating a new network of connections each time.  It outputs\n",
      "    the number of spikes at each time step averaged over trials.\n",
      "    \"\"\"\n",
      "    numspikes = np.zeros((trials, T))\n",
      "    initial = np.zeros(num_neurons)\n",
      "    initial[0] = 1\n",
      "    for trial in range(trials):\n",
      "        connections = 2*(np.random.rand(num_neurons,num_neurons)-0.5)\n",
      "        connections[0,:] = 0\n",
      "        spikes = spiking_network(initial, connections, T)\n",
      "        numspikes[trial, :] = sum(spikes, axis=1)\n",
      "        \n",
      "    return(sum(numspikes, axis=0)/trials)\n",
      "\n",
      "avg_num_spikes(4, 11, 1000)"
     ],
     "language": "python",
     "metadata": {},
     "outputs": [
      {
       "output_type": "pyout",
       "prompt_number": 4,
       "text": [
        "array([ 1.   ,  0.871,  0.447,  0.505,  0.472,  0.418,  0.413,  0.431,\n",
        "        0.421,  0.398,  0.444])"
       ]
      }
     ],
     "prompt_number": 4
    },
    {
     "cell_type": "code",
     "collapsed": false,
     "input": [
      "fig, ax = plt.subplots()\n",
      "ax.set_xlim([0,len(initial)])\n",
      "ax.set_ylim([0,1.2])\n",
      "ax.bar(range(len(initial)), initial)\n",
      "\n",
      "\n",
      "    "
     ],
     "language": "python",
     "metadata": {},
     "outputs": [
      {
       "output_type": "pyout",
       "prompt_number": 9,
       "text": [
        "<Container object of 4 artists>"
       ]
      },
      {
       "output_type": "display_data",
       "png": "[encoded data removed]"
      }
     ],
     "prompt_number": 9
    },
    {
     "cell_type": "code",
     "collapsed": false,
     "input": [
      "N = 10\n",
      "initial = np.zeros(N)\n",
      "initial[0] = 1\n",
      "connections = np.random.rand(N,N)\n",
      "connections[0,:] = 0\n",
      "T = 100\n",
      "spikes = spiking_network(initial, connections, T)\n",
      "\n",
      "from matplotlib import animation\n",
      "fig_a, ax_a = plt.subplots()\n",
      "ax_a.set_xlim([0, len(initial)])\n",
      "ax_a.set_ylim([0, 1.2])\n",
      "\n",
      "neural_state, = ax_a.bar([], [])\n",
      "\n",
      "def init():\n",
      "    neural_state.set_data([], [])\n",
      "    \n",
      "def update(n):\n",
      "    neural_state.set_data(range(N), spikes[n,:])\n",
      "    "
     ],
     "language": "python",
     "metadata": {},
     "outputs": [
      {
       "ename": "ValueError",
       "evalue": "need more than 0 values to unpack",
       "output_type": "pyerr",
       "traceback": [
        "\u001b[1;31m---------------------------------------------------------------------------\u001b[0m\n\u001b[1;31mValueError\u001b[0m                                Traceback (most recent call last)",
        "\u001b[1;32m<ipython-input-11-fc61b94cb837>\u001b[0m in \u001b[0;36m<module>\u001b[1;34m()\u001b[0m\n\u001b[0;32m     12\u001b[0m \u001b[0max_a\u001b[0m\u001b[1;33m.\u001b[0m\u001b[0mset_ylim\u001b[0m\u001b[1;33m(\u001b[0m\u001b[1;33m[\u001b[0m\u001b[1;36m0\u001b[0m\u001b[1;33m,\u001b[0m \u001b[1;36m1.2\u001b[0m\u001b[1;33m]\u001b[0m\u001b[1;33m)\u001b[0m\u001b[1;33m\u001b[0m\u001b[0m\n\u001b[0;32m     13\u001b[0m \u001b[1;33m\u001b[0m\u001b[0m\n\u001b[1;32m---> 14\u001b[1;33m \u001b[0mneural_state\u001b[0m\u001b[1;33m,\u001b[0m \u001b[1;33m=\u001b[0m \u001b[0max_a\u001b[0m\u001b[1;33m.\u001b[0m\u001b[0mbar\u001b[0m\u001b[1;33m(\u001b[0m\u001b[1;33m[\u001b[0m\u001b[1;33m]\u001b[0m\u001b[1;33m,\u001b[0m \u001b[1;33m[\u001b[0m\u001b[1;33m]\u001b[0m\u001b[1;33m)\u001b[0m\u001b[1;33m\u001b[0m\u001b[0m\n\u001b[0m\u001b[0;32m     15\u001b[0m \u001b[1;33m\u001b[0m\u001b[0m\n\u001b[0;32m     16\u001b[0m \u001b[1;32mdef\u001b[0m \u001b[0minit\u001b[0m\u001b[1;33m(\u001b[0m\u001b[1;33m)\u001b[0m\u001b[1;33m:\u001b[0m\u001b[1;33m\u001b[0m\u001b[0m\n",
        "\u001b[1;31mValueError\u001b[0m: need more than 0 values to unpack"
       ]
      },
      {
       "output_type": "display_data",
       "png": "[encoded data removed]"
      }
     ],
     "prompt_number": 11
    },
    {
     "cell_type": "code",
     "collapsed": false,
     "input": [],
     "language": "python",
     "metadata": {},
     "outputs": []
    }
   ],
   "metadata": {}
  }
 ]
}